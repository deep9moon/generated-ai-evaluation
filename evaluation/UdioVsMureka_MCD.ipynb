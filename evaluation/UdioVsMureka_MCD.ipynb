{
 "cells": [
  {
   "cell_type": "code",
   "execution_count": 1,
   "id": "c6f55ad0",
   "metadata": {},
   "outputs": [
    {
     "name": "stdout",
     "output_type": "stream",
     "text": [
      "Working directory set to: /Users/zhangjiuyue/jupternotebook/king's project\n"
     ]
    }
   ],
   "source": [
    "import os\n",
    "\n",
    "# Use the current notebook directory as the project root\n",
    "project_root = os.getcwd()\n",
    "os.chdir(project_root)\n",
    "\n",
    "print(\"Working directory set to:\", os.getcwd())"
   ]
  },
  {
   "cell_type": "code",
   "execution_count": 11,
   "id": "186745cd",
   "metadata": {},
   "outputs": [
    {
     "name": "stderr",
     "output_type": "stream",
     "text": [
      "Processing Prompts: 100%|█████████████████████████| 5/5 [04:34<00:00, 54.87s/it]"
     ]
    },
    {
     "name": "stdout",
     "output_type": "stream",
     "text": [
      "✅ Analysis complete. Results saved to: ./outputs/\n"
     ]
    },
    {
     "name": "stderr",
     "output_type": "stream",
     "text": [
      "\n"
     ]
    }
   ],
   "source": [
    "import os\n",
    "import numpy as np\n",
    "import librosa\n",
    "import pandas as pd\n",
    "from fastdtw import fastdtw\n",
    "from scipy.spatial.distance import euclidean\n",
    "from tqdm import tqdm\n",
    "\n",
    "# Path Configuration\n",
    "human_dir = os.path.join(\"./data/whole/real music/\")\n",
    "mureka_dir = os.path.join(\"./data/whole/generated music/mureka/\")\n",
    "udio_dir = os.path.join(\"./data/whole/generated music/Udio/\")\n",
    "output_dir = os.path.join(\"./outputs/\")\n",
    "os.makedirs(output_dir, exist_ok=True)\n",
    "\n",
    "SAMPLE_RATE = 44100\n",
    "N_MFCC = 13\n",
    "PROMPTS = range(1, 6)  # 1~5\n",
    "\n",
    "# Two templates for generating file names\n",
    "sample_names = [\"{n}.mp3\", \"{n}(1).mp3\"]  # 1.mp3, 1(1).mp3\n",
    "\n",
    "def extract_features(wav_path):\n",
    "    \"\"\"提取MFCC及其delta特征\"\"\"\n",
    "    try:\n",
    "        y, sr = librosa.load(wav_path, sr=SAMPLE_RATE, mono=True)\n",
    "        y = librosa.util.normalize(y)\n",
    "        mfcc = librosa.feature.mfcc(y=y, sr=sr, n_mfcc=N_MFCC, n_fft=2048, hop_length=512)\n",
    "        delta = librosa.feature.delta(mfcc)\n",
    "        return np.vstack([mfcc, delta]).T\n",
    "    except Exception as e:\n",
    "        print(f\"Feature extraction failed for {os.path.basename(wav_path)}: {str(e)}\")\n",
    "        return None\n",
    "\n",
    "def calculate_mcd(feat_ref, feat_target):\n",
    "    \"\"\"Calculate MCD after alignment with DTW\"\"\"\n",
    "    if feat_ref is None or feat_target is None:\n",
    "        return np.nan\n",
    "    try:\n",
    "        feat_ref = (feat_ref - np.mean(feat_ref, axis=0)) / (np.std(feat_ref, axis=0) + 1e-8)\n",
    "        feat_target = (feat_target - np.mean(feat_target, axis=0)) / (np.std(feat_target, axis=0) + 1e-8)\n",
    "        _, path = fastdtw(feat_ref, feat_target, dist=euclidean, radius=10)\n",
    "        aligned_ref = np.array([feat_ref[i] for i, _ in path])\n",
    "        aligned_target = np.array([feat_target[j] for _, j in path])\n",
    "        return 10 / np.log(10) * np.mean(np.linalg.norm(aligned_ref - aligned_target, axis=1))\n",
    "    except Exception as e:\n",
    "        print(f\"MCD calculation failed: {str(e)}\")\n",
    "        return np.nan\n",
    "\n",
    "# Master Analysis Process\n",
    "def compare_models():\n",
    "    results = []\n",
    "    for prompt in tqdm(PROMPTS, desc=\"Processing Prompts\"):\n",
    "        # real music\n",
    "        human_file = f\"{prompt}.mp3\"\n",
    "        human_path = os.path.join(human_dir, human_file)\n",
    "        if not os.path.exists(human_path):\n",
    "            print(f\"Missing human file: {human_file}\")\n",
    "            continue\n",
    "        feat_human = extract_features(human_path)\n",
    "        if feat_human is None:\n",
    "            continue\n",
    "        for model, model_dir in [(\"Mureka\", mureka_dir), (\"Udio\", udio_dir)]:\n",
    "            for i, fname_tmpl in enumerate(sample_names, 1):\n",
    "                ai_file = fname_tmpl.format(n=prompt)\n",
    "                ai_path = os.path.join(model_dir, ai_file)\n",
    "                if not os.path.exists(ai_path):\n",
    "                    print(f\"Missing {model} file: {ai_file}\")\n",
    "                    continue\n",
    "                feat_ai = extract_features(ai_path)\n",
    "                mcd = calculate_mcd(feat_human, feat_ai)\n",
    "                results.append({\n",
    "                    \"Prompt\": prompt,\n",
    "                    \"Model\": model,\n",
    "                    \"Sample\": i,  # 1 or 2\n",
    "                    \"MCD\": mcd,\n",
    "                    \"Human_File\": human_file,\n",
    "                    \"AI_File\": ai_file\n",
    "                })\n",
    "    return pd.DataFrame(results)\n",
    "\n",
    "df = compare_models()\n",
    "df.to_csv(os.path.join(output_dir, \"mcd_model_comparison_full.csv\"), index=False)\n",
    "print(\"✅ Analysis complete. Results saved to:\", output_dir)"
   ]
  },
  {
   "cell_type": "code",
   "execution_count": 13,
   "id": "2682ae1a",
   "metadata": {},
   "outputs": [
    {
     "name": "stdout",
     "output_type": "stream",
     "text": [
      "        count       mean       std        min        25%        50%  \\\n",
      "Model                                                                 \n",
      "Mureka   10.0  25.010310  1.869953  22.187576  23.724118  25.142984   \n",
      "Udio     10.0  23.246571  0.605342  22.523648  22.743180  23.045722   \n",
      "\n",
      "              75%        max  \n",
      "Model                         \n",
      "Mureka  26.681407  27.442821  \n",
      "Udio    23.838328  24.117847  \n"
     ]
    }
   ],
   "source": [
    "# 1. Descriptive statistics by model\n",
    "print(df.groupby('Model')['MCD'].describe())"
   ]
  },
  {
   "cell_type": "code",
   "execution_count": 14,
   "id": "16662f7a",
   "metadata": {},
   "outputs": [
    {
     "name": "stdout",
     "output_type": "stream",
     "text": [
      "                    mean       std\n",
      "Prompt Model                      \n",
      "1      Mureka  23.735542  0.032312\n",
      "       Udio    23.154227  0.670454\n",
      "2      Mureka  25.142984  1.030329\n",
      "       Udio    22.876781  0.091669\n",
      "3      Mureka  22.488533  0.425618\n",
      "       Udio    22.621951  0.139021\n",
      "4      Mureka  26.515118  0.470336\n",
      "       Udio    23.946051  0.053340\n",
      "5      Mureka  27.169374  0.386712\n",
      "       Udio    23.633845  0.684483\n"
     ]
    }
   ],
   "source": [
    "# 2. By Prompt, Model Mean and Variance\n",
    "print(df.groupby(['Prompt', 'Model'])['MCD'].agg(['mean', 'std']))"
   ]
  },
  {
   "cell_type": "code",
   "execution_count": 15,
   "id": "6ef68edc",
   "metadata": {},
   "outputs": [
    {
     "name": "stdout",
     "output_type": "stream",
     "text": [
      "   Prompt   Model  MCD_Diff   MCD_Std\n",
      "0       1  Mureka  0.045696  0.022848\n",
      "1       1    Udio  0.948166  0.474083\n",
      "2       2  Mureka  1.457105  0.728552\n",
      "3       2    Udio  0.129639  0.064820\n",
      "4       3  Mureka  0.601915  0.300958\n",
      "5       3    Udio  0.196605  0.098302\n",
      "6       4  Mureka  0.665155  0.332578\n",
      "7       4    Udio  0.075434  0.037717\n",
      "8       5  Mureka  0.546894  0.273447\n",
      "9       5    Udio  0.968005  0.484002\n"
     ]
    }
   ],
   "source": [
    "# 3. Stability analysis: MCD difference and variance for two songs of the same model under the same prompt\n",
    "stability_results = []\n",
    "for prompt in PROMPTS:\n",
    "    for model in ['Mureka', 'Udio']:\n",
    "        mcds = df[(df['Prompt'] == prompt) & (df['Model'] == model)]['MCD'].values\n",
    "        if len(mcds) == 2:\n",
    "            diff = abs(mcds[0] - mcds[1])\n",
    "            std = np.std(mcds)\n",
    "            stability_results.append({'Prompt': prompt, 'Model': model, 'MCD_Diff': diff, 'MCD_Std': std})\n",
    "stability_df = pd.DataFrame(stability_results)\n",
    "print(stability_df)"
   ]
  },
  {
   "cell_type": "code",
   "execution_count": 16,
   "id": "a92b336b",
   "metadata": {},
   "outputs": [
    {
     "name": "stdout",
     "output_type": "stream",
     "text": [
      "Paired t-test: t=2.624, p=0.0586\n"
     ]
    }
   ],
   "source": [
    "# 4. Paired t-test (paired per prompt model means)\n",
    "from scipy.stats import ttest_rel\n",
    "pivot_df = df.groupby(['Prompt', 'Model'])['MCD'].mean().unstack()\n",
    "if all(col in pivot_df.columns for col in ['Mureka', 'Udio']):\n",
    "    t_stat, p_value = ttest_rel(pivot_df['Mureka'], pivot_df['Udio'])\n",
    "    print(f\"Paired t-test: t={t_stat:.3f}, p={p_value:.4f}\")"
   ]
  },
  {
   "cell_type": "code",
   "execution_count": 17,
   "id": "cfd109e4",
   "metadata": {},
   "outputs": [
    {
     "data": {
      "image/png": "[encoded data removed]",
      "text/plain": [
       "<Figure size 1200x600 with 2 Axes>"
      ]
     },
     "metadata": {},
     "output_type": "display_data"
    }
   ],
   "source": [
    "# 5. Visualization\n",
    "import matplotlib.pyplot as plt\n",
    "import seaborn as sns\n",
    "plt.figure(figsize=(12, 6))\n",
    "palette = {\"Mureka\": \"#4C72B0\", \"Udio\": \"#DD8452\"}\n",
    "\n",
    "plt.subplot(1, 2, 1)\n",
    "sns.boxplot(x=\"Model\", y=\"MCD\", data=df, palette=palette)\n",
    "plt.title(\"Overall MCD Comparison\")\n",
    "plt.xlabel(\"\")\n",
    "plt.ylabel(\"Mel-Cepstral Distortion (dB)\")\n",
    "\n",
    "plt.subplot(1, 2, 2)\n",
    "sns.barplot(x=\"Prompt\", y=\"MCD\", hue=\"Model\", data=df, palette=palette)\n",
    "plt.title(\"MCD by Prompt\")\n",
    "plt.legend(title=\"Model\")\n",
    "\n",
    "plt.tight_layout()\n",
    "plt.savefig(os.path.join(output_dir, \"mcd_model_comparison.png\"), dpi=300)\n",
    "plt.show()"
   ]
  },
  {
   "cell_type": "code",
   "execution_count": null,
   "id": "ef50affe",
   "metadata": {},
   "outputs": [],
   "source": []
  }
 ],
 "metadata": {
  "kernelspec": {
   "display_name": "Python 3 (ipykernel)",
   "language": "python",
   "name": "python3"
  },
  "language_info": {
   "codemirror_mode": {
    "name": "ipython",
    "version": 3
   },
   "file_extension": ".py",
   "mimetype": "text/x-python",
   "name": "python",
   "nbconvert_exporter": "python",
   "pygments_lexer": "ipython3",
   "version": "3.11.5"
  }
 },
 "nbformat": 4,
 "nbformat_minor": 5
}
